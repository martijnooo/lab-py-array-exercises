{
 "cells": [
  {
   "cell_type": "markdown",
   "metadata": {},
   "source": [
    "# LAB : Python Array Exercises"
   ]
  },
  {
   "cell_type": "markdown",
   "metadata": {},
   "source": [
    "## Overview"
   ]
  },
  {
   "cell_type": "markdown",
   "metadata": {},
   "source": [
    "This exercise set focuses on various operations and problems related to arrays in Python. Each exercise is categorized by difficulty level, with examples provided for clarity.\n"
   ]
  },
  {
   "cell_type": "markdown",
   "metadata": {},
   "source": [
    "## Instructions\n",
    "\n",
    "- Complete each exercise by writing the appropriate Python code.\n",
    "- Complete your code in a Jupyter Notebook (.ipynb) format.\n",
    "- Submit the link to your forked repository containing the notebook with your implementation.\n",
    "\n",
    "Make sure to follow these steps carefully to ensure proper submission of your work. "
   ]
  },
  {
   "cell_type": "markdown",
   "metadata": {},
   "source": [
    "\n",
    "## Exercises\n"
   ]
  },
  {
   "cell_type": "markdown",
   "metadata": {},
   "source": [
    "\n",
    "1. **Create an Array and Display Items**\n",
    "   - Write a Python program to create an array of 5 integers and display the array items. Access individual elements through indexes.\n",
    "\n",
    "   **Example:**\n",
    "   ```python\n",
    "   # Sample Input\n",
    "   arr =[1, 3, 5, 7, 9]\n",
    "\n",
    "   # Sample Output\n",
    "   1\n",
    "   3\n",
    "   5\n",
    "   7\n",
    "   9\n",
    "   ```\n"
   ]
  },
  {
   "cell_type": "code",
   "execution_count": 33,
   "metadata": {},
   "outputs": [
    {
     "name": "stdout",
     "output_type": "stream",
     "text": [
      "80\n",
      "74\n",
      "63\n",
      "25\n",
      "15\n"
     ]
    }
   ],
   "source": [
    "# Write your code HERE\n",
    "import random\n",
    "\n",
    "def create_array(length):\n",
    "    # Create a list of 10 random numbers between 1 and 100\n",
    "    random_numbers = [random.randint(1, 100) for _ in range(length)]\n",
    "\n",
    "    return random_numbers\n",
    "\n",
    "array = create_array(5)\n",
    "for i in range(len(array)):\n",
    "    print(array[i])"
   ]
  },
  {
   "cell_type": "markdown",
   "metadata": {},
   "source": [
    "\n",
    "2. **Append an Item to the Array**\n",
    "   - Write a Python program to append a new item to the end of the array.\n",
    "\n",
    "   **Example:**\n",
    "   ```python\n",
    "   # Sample Input\n",
    "   arr =  [1, 3, 5, 7, 9]\n",
    "\n",
    "   # Sample Output\n",
    "   Original array: [1, 3, 5, 7, 9]\n",
    "   New array after appending: [1, 3, 5, 7, 9, 11]\n",
    "   ```\n"
   ]
  },
  {
   "cell_type": "code",
   "execution_count": 34,
   "metadata": {},
   "outputs": [
    {
     "data": {
      "text/plain": [
       "[1, 3, 5, 7, 9, 11]"
      ]
     },
     "execution_count": 34,
     "metadata": {},
     "output_type": "execute_result"
    }
   ],
   "source": [
    "# Write your code HERE\n",
    "# Sample Input\n",
    "arr =  [1, 3, 5, 7, 9]\n",
    "\n",
    "arr.append(11)\n",
    "arr"
   ]
  },
  {
   "cell_type": "markdown",
   "metadata": {},
   "source": [
    "\n",
    "3. **Reverse the Array**\n",
    "   - Write a Python program to reverse the order of the items in the array.\n",
    "\n",
    "   **Example:**\n",
    "   ```python\n",
    "   # Sample Input\n",
    "   arr = [1, 3, 5, 7, 9]\n",
    "\n",
    "   # Sample Output\n",
    "   Original array:[1, 3, 5, 7, 9]\n",
    "   Reversed array:  [9, 7, 5, 3, 1]\n",
    "   ```\n"
   ]
  },
  {
   "cell_type": "code",
   "execution_count": 35,
   "metadata": {},
   "outputs": [
    {
     "data": {
      "text/plain": [
       "[11, 9, 7, 5, 3, 1]"
      ]
     },
     "execution_count": 35,
     "metadata": {},
     "output_type": "execute_result"
    }
   ],
   "source": [
    "# Write your code HERE\n",
    "arr.reverse()\n",
    "arr"
   ]
  },
  {
   "cell_type": "markdown",
   "metadata": {},
   "source": [
    "\n",
    "4. **Find the Length of an Array Item**\n",
    "   - Write a Python program to get the length in bytes of one array item in the internal representation.\n",
    "\n",
    "   **Example:**\n",
    "   ```python\n",
    "   # Sample Input\n",
    "   arr = [1, 3, 5, 7, 9]\n",
    "\n",
    "   # Sample Output\n",
    "   Length in bytes of one array item: 4\n",
    "   ```\n"
   ]
  },
  {
   "cell_type": "code",
   "execution_count": null,
   "metadata": {},
   "outputs": [
    {
     "name": "stdout",
     "output_type": "stream",
     "text": [
      "Length in bytes of one array item: 28\n"
     ]
    }
   ],
   "source": [
    "import sys\n",
    "\n",
    "# Sample Input\n",
    "arr = [1, 3, 5, 7, 9]\n",
    "\n",
    "# Sample Output\n",
    "length_in_bytes = sys.getsizeof(arr[0])  # Get the size of one item in the array\n",
    "#arr[0].bit_length()\n",
    "\n",
    "print(f\"Length in bytes of one array item: {length_in_bytes}\")\n"
   ]
  },
  {
   "cell_type": "markdown",
   "metadata": {},
   "source": [
    "\n",
    "5. **Remove an Item by Index**\n",
    "   - Write a Python program to remove a specified item using the index of an array.\n",
    "\n",
    "   **Example:**\n",
    "   ```python\n",
    "   # Sample Input\n",
    "   arr = [1, 3, 5, 7, 9]\n",
    "\n",
    "   # Sample Output\n",
    "   Original array: [1, 3, 5, 7, 9]\n",
    "   New array after removing index 2: [1, 3, 7, 9]\n",
    "   ```\n"
   ]
  },
  {
   "cell_type": "code",
   "execution_count": 48,
   "metadata": {},
   "outputs": [
    {
     "data": {
      "text/plain": [
       "5"
      ]
     },
     "execution_count": 48,
     "metadata": {},
     "output_type": "execute_result"
    }
   ],
   "source": [
    "# Sample Input\n",
    "arr = [1, 3, 5, 7, 9]\n",
    "\n",
    "arr.pop(2)"
   ]
  },
  {
   "cell_type": "markdown",
   "metadata": {},
   "source": [
    "\n",
    "6. **Remove First Occurrence of an Element**\n",
    "   - Write a Python program to remove the first occurrence of a specified element from an array.\n",
    "\n",
    "   **Example:**\n",
    "   ```python\n",
    "   # Sample Input\n",
    "   arr = [1, 3, 5, 3, 7]\n",
    "\n",
    "   # Sample Output\n",
    "   Original array: [1, 3, 5, 3, 7]\n",
    "   New array after removing first occurrence of '3': [1, 5, 3, 7]\n",
    "   ```\n"
   ]
  },
  {
   "cell_type": "code",
   "execution_count": 50,
   "metadata": {},
   "outputs": [
    {
     "data": {
      "text/plain": [
       "[1, 5, 3, 7]"
      ]
     },
     "execution_count": 50,
     "metadata": {},
     "output_type": "execute_result"
    }
   ],
   "source": [
    "# Write your code HERE\n",
    "# Sample Input\n",
    "arr = [1, 3, 5, 3, 7]\n",
    "\n",
    "arr.remove(3)\n",
    "arr"
   ]
  },
  {
   "cell_type": "markdown",
   "metadata": {},
   "source": [
    "\n",
    "7. **Convert Array to List**\n",
    "    - Write a Python program to convert an array to an ordinary list with the same items.\n",
    "\n",
    "    **Example:**\n",
    "    ```python\n",
    "    # Sample Input\n",
    "    arr = [1, 2, 3]\n",
    "\n",
    "    # Sample Output\n",
    "    Converted list: [1, 2, 3]\n",
    "    ```\n"
   ]
  },
  {
   "cell_type": "code",
   "execution_count": 53,
   "metadata": {},
   "outputs": [
    {
     "data": {
      "text/plain": [
       "[1, 2, 3]"
      ]
     },
     "execution_count": 53,
     "metadata": {},
     "output_type": "execute_result"
    }
   ],
   "source": [
    "# Write your code HERE\n",
    "arr = [1,2,3]\n",
    "\n",
    "list(arr)"
   ]
  },
  {
   "cell_type": "markdown",
   "metadata": {},
   "source": [
    "\n",
    "8. **Check for Duplicates in Array**\n",
    "    - Write a Python program to find out if a given array of integers contains any duplicate elements.\n",
    "\n",
    "    **Example:**\n",
    "    ```python\n",
    "    # Sample Input\n",
    "    arr = [1,2,3,4]\n",
    "\n",
    "    # Sample Output\n",
    "    Contains duplicates: False\n",
    "\n",
    "    arr = [1,2,2]\n",
    "\n",
    "    Contains duplicates: True\n",
    "    ```\n"
   ]
  },
  {
   "cell_type": "code",
   "execution_count": null,
   "metadata": {},
   "outputs": [],
   "source": [
    "# Write your code HERE\n",
    "# Sample Input\n",
    "arr = [1,2,3,4,4]\n",
    "\n",
    "duplicates = set()\n",
    "unique = set()\n",
    "\n",
    "for i in arr:\n",
    "    if i in unique:\n",
    "        duplicates.add(i)\n",
    "    unique.add(i)"
   ]
  },
  {
   "cell_type": "markdown",
   "metadata": {},
   "source": [
    "## Advanced Exercises\n"
   ]
  },
  {
   "cell_type": "markdown",
   "metadata": {},
   "source": [
    "\n",
    "1. **Find Maximum and Minimum in an Array**\n",
    "    - Write a Python program to find the maximum and minimum values in an integer array.\n",
    "\n",
    "    **Example:**\n",
    "    ```python\n",
    "    # Sample Input\n",
    "    arr = [10, -2, -30 ,4 ,100 ,50]\n",
    "\n",
    "    # Sample Output\n",
    "    Maximum value:100\n",
    "    Minimum value:-30\n",
    "    ```\n"
   ]
  },
  {
   "cell_type": "code",
   "execution_count": 71,
   "metadata": {},
   "outputs": [
    {
     "data": {
      "text/plain": [
       "100"
      ]
     },
     "execution_count": 71,
     "metadata": {},
     "output_type": "execute_result"
    }
   ],
   "source": [
    "# Write your code HERE\n",
    "arr = [10, -2, -30 ,4 ,100 ,50]\n",
    "min(arr)\n",
    "max(arr)"
   ]
  },
  {
   "cell_type": "markdown",
   "metadata": {},
   "source": [
    "\n",
    "2. **Count Even and Odd Numbers in an Array**\n",
    "    - Write a Python program to count how many even and odd numbers are present in an integer array.\n",
    "\n",
    "    **Example:**\n",
    "    ```python\n",
    "    # Sample Input\n",
    "    arr = [10 ,21 ,32 ,43 ,54 ,65 ,76 ,87]\n",
    "\n",
    "    # Sample Output\n",
    "    Even count:4\n",
    "    Odd count:4\n",
    "    ```\n"
   ]
  },
  {
   "cell_type": "code",
   "execution_count": 76,
   "metadata": {},
   "outputs": [
    {
     "name": "stdout",
     "output_type": "stream",
     "text": [
      "4\n",
      "4\n"
     ]
    }
   ],
   "source": [
    "# Write your code HERE\n",
    "arr = [10 ,21 ,32 ,43 ,54 ,65 ,76 ,87]\n",
    "even = 0\n",
    "odd = 0\n",
    "\n",
    "for num in arr:\n",
    "    if num % 2 == 0:\n",
    "        even +=1\n",
    "    else:\n",
    "        odd += 1\n",
    "\n",
    "print(even)\n",
    "print(odd)\n"
   ]
  },
  {
   "cell_type": "markdown",
   "metadata": {},
   "source": [
    "## Bonus Challenges\n"
   ]
  },
  {
   "cell_type": "markdown",
   "metadata": {},
   "source": [
    "\n",
    "1. **Rotate Array Elements**\n",
    "    - Write a Python program to rotate elements of an integer array by `k` positions.\n",
    "\n",
    "    **Example:**\n",
    "    ```python\n",
    "    # Sample Input\n",
    "    arr = [10 ,20 ,30 ,40 ,50]\n",
    "    k =2\n",
    "\n",
    "    # Sample Output\n",
    "    Rotated Array: [30 ,40 ,50 ,10 ,20]\n",
    "    ```\n"
   ]
  },
  {
   "cell_type": "code",
   "execution_count": 82,
   "metadata": {},
   "outputs": [
    {
     "data": {
      "text/plain": [
       "[30, 40, 50, 10, 20]"
      ]
     },
     "execution_count": 82,
     "metadata": {},
     "output_type": "execute_result"
    }
   ],
   "source": [
    "# Write your code HERE\n",
    "arr = [10 ,20 ,30 ,40 ,50]\n",
    "k =2\n",
    "new_arr = arr[k:] + arr[:k]\n",
    "new_arr\n",
    "\n",
    "\n"
   ]
  },
  {
   "cell_type": "markdown",
   "metadata": {},
   "source": [
    "\n",
    "2. **Merge Two Sorted Arrays**\n",
    "     - Write a Python program to merge two sorted arrays into one sorted array.\n",
    "\n",
    "     **Example:**\n",
    "     ```python\n",
    "     # Sample Input\n",
    "     arr1 = [1 ,3 ,5]\n",
    "     arr2 = [2 ,4 ,6]\n",
    "\n",
    "     # Sample Output\n",
    "     Merged Sorted Array: [1 ,2 ,3 ,4 ,5 ,6]\n",
    "     ```\n",
    "\n"
   ]
  },
  {
   "cell_type": "code",
   "execution_count": 84,
   "metadata": {},
   "outputs": [
    {
     "data": {
      "text/plain": [
       "[1, 2, 3, 4, 5, 6]"
      ]
     },
     "execution_count": 84,
     "metadata": {},
     "output_type": "execute_result"
    }
   ],
   "source": [
    "# Write your code HERE\n",
    "arr1 = [1 ,3 ,5]\n",
    "arr2 = [2 ,4 ,6]\n",
    "sorted(arr1 + arr2)"
   ]
  },
  {
   "cell_type": "markdown",
   "metadata": {},
   "source": [
    "### Exercise Completion\n",
    "Once you have completed all exercises:\n",
    "- Review your solutions.\n",
    "- Ensure your Python code are well-documented with comments explaining your logic.\n",
    "- Save your notebook for submission or further review.\n",
    "\n",
    "Happy coding! Enjoy practicing Arrays in Python!"
   ]
  },
  {
   "cell_type": "markdown",
   "metadata": {},
   "source": []
  }
 ],
 "metadata": {
  "kernelspec": {
   "display_name": "datasci_env",
   "language": "python",
   "name": "python3"
  },
  "language_info": {
   "codemirror_mode": {
    "name": "ipython",
    "version": 3
   },
   "file_extension": ".py",
   "mimetype": "text/x-python",
   "name": "python",
   "nbconvert_exporter": "python",
   "pygments_lexer": "ipython3",
   "version": "3.8.20"
  }
 },
 "nbformat": 4,
 "nbformat_minor": 2
}
